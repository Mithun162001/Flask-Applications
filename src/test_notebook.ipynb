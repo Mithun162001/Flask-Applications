{
 "cells": [
  {
   "cell_type": "markdown",
   "metadata": {},
   "source": [
    "To create a flask application with a frotned and backend that includes a homepage with instructions, a form to input the IP address of the remote server, a form for username and password,\n",
    "and a file upload option. The backend will take the IP address and ping the remote server, the username and password will be used to ssh into the remote server and the file upload will be used\n",
    "to upload a file to the remote server. The frontend will display the results of the ping, ssh, and file upload."
   ]
  },
  {
   "cell_type": "code",
   "execution_count": 1,
   "metadata": {},
   "outputs": [],
   "source": [
    "# importing the required libraries\n",
    "from flask import Flask, render_template, request, redirect, url_for, flash\n",
    "import paramiko\n",
    "import os"
   ]
  },
  {
   "cell_type": "code",
   "execution_count": 4,
   "metadata": {},
   "outputs": [],
   "source": [
    "# Defining the Flask app\n",
    "app = Flask(__name__)\n",
    "app.secret_key = \"162001\""
   ]
  },
  {
   "cell_type": "code",
   "execution_count": 2,
   "metadata": {},
   "outputs": [],
   "source": [
    "# Function to establish an SSH connection to the remote server\n",
    "def ssh_connect(username, password, ip_address):\n",
    "    try:\n",
    "        ssh_client = paramiko.SSHClient()\n",
    "        ssh_client.set_missing_host_key_policy(paramiko.AutoAddPolicy())\n",
    "        ssh_client.connect(hostname=ip_address, username=username, password=password)\n",
    "        print(\"Connected to %s\" % ip_address)\n",
    "        return ssh_client\n",
    "    except Exception as e:\n",
    "        flash(f\"Failed to connect to {ip_address} due to {e}\")\n",
    "        print(\"Connection Failed\")\n",
    "        return None"
   ]
  },
  {
   "cell_type": "code",
   "execution_count": 5,
   "metadata": {},
   "outputs": [],
   "source": [
    "@app.route('/')\n",
    "def home():\n",
    "    return render_template('home.html')"
   ]
  },
  {
   "cell_type": "code",
   "execution_count": 6,
   "metadata": {},
   "outputs": [],
   "source": [
    "@app.route('/connect', methods=['POST'])\n",
    "def connect():\n",
    "    ip_address = request.form.get('ip_address')\n",
    "    return render_template('C:/Users/gmi/OneDrive - Hewlett Packard Enterprise/Documents/Flask Applications/src/login.html', ip_address=ip_address)\n"
   ]
  },
  {
   "cell_type": "code",
   "execution_count": 7,
   "metadata": {},
   "outputs": [],
   "source": [
    "@app.route('/authenticate', methods=['POST'])\n",
    "def authenticate():\n",
    "    username = request.form.get('username')\n",
    "    password = request.form.get('password')\n",
    "    ip_address = request.form.get('ip_address')\n",
    "\n",
    "    ssh_client = ssh_connect(username, password, ip_address)\n",
    "\n",
    "    if ssh_client:\n",
    "        return render_template('upload.html', ip_address=ip_address)\n",
    "    else:\n",
    "        return redirect(url_for('home'))"
   ]
  },
  {
   "cell_type": "code",
   "execution_count": 8,
   "metadata": {},
   "outputs": [],
   "source": [
    "@app.route('/upload', methods=['POST'])\n",
    "def upload():\n",
    "    ip_address = request.form.get('ip_address')\n",
    "    file = request.files['file']\n",
    "\n",
    "    if file:\n",
    "        # Save the uploaded file to a temporary location\n",
    "        file_path = os.path.join('uploads', file.filename)\n",
    "        file.save(file_path)\n",
    "\n",
    "        # Perform the file transfer to the remote server using the SSH connection\n",
    "        ssh_client = ssh_connect('your_username', 'your_password', ip_address)\n",
    "        if ssh_client:\n",
    "            sftp = ssh_client.open_sftp()\n",
    "            sftp.put(file_path, '/home/ubuntu/' + file.filename)\n",
    "            sftp.close()\n",
    "            os.remove(file_path)\n",
    "            flash(f\"File uploaded successfully to {ip_address}\")\n",
    "\n",
    "        else:\n",
    "            flash(\"File upload failed\")\n",
    "    else:\n",
    "        flash(\"Please select a file to upload\")\n",
    "\n",
    "    return render_template('upload.html', ip_address=ip_address)"
   ]
  },
  {
   "cell_type": "code",
   "execution_count": 11,
   "metadata": {},
   "outputs": [
    {
     "name": "stdout",
     "output_type": "stream",
     "text": [
      " * Serving Flask app '__main__'\n",
      " * Debug mode: on\n"
     ]
    },
    {
     "name": "stderr",
     "output_type": "stream",
     "text": [
      "WARNING: This is a development server. Do not use it in a production deployment. Use a production WSGI server instead.\n",
      " * Running on http://127.0.0.1:5000\n",
      "Press CTRL+C to quit\n",
      " * Restarting with watchdog (windowsapi)\n"
     ]
    },
    {
     "ename": "SystemExit",
     "evalue": "1",
     "output_type": "error",
     "traceback": [
      "An exception has occurred, use %tb to see the full traceback.\n",
      "\u001b[1;31mSystemExit\u001b[0m\u001b[1;31m:\u001b[0m 1\n"
     ]
    }
   ],
   "source": [
    "if __name__ == '__main__':\n",
    "    app.run(debug=True)\n",
    "\n"
   ]
  },
  {
   "cell_type": "code",
   "execution_count": 3,
   "metadata": {},
   "outputs": [],
   "source": [
    "from paramiko import SSHClient\n",
    "from scp import SCPClient\n",
    "\n",
    "ssh = SSHClient()\n",
    "ssh.load_system_host_keys()\n",
    "ssh.connect(hostname='172.23.226.203', username='root', password='162001')\n",
    "\n",
    "# SCPCLient takes a paramiko transport as an argument\n",
    "scp = SCPClient(ssh.get_transport())\n",
    "\n",
    "scp.put('C:/BankNote_Authentication.csv', 'BankNote_Authentication.csv')\n",
    "scp.get('BankNote_Authentication.csv', 'BankNote_Authentication.csv')\n",
    "\n",
    "# Uploading the 'test' directory with its content in the\n",
    "# '/home/user/dump' remote directory\n",
    "scp.put('C:/BankNote_Authentication.csv', recursive=True, remote_path='/root/test_upload')\n",
    "\n",
    "scp.close()"
   ]
  }
 ],
 "metadata": {
  "kernelspec": {
   "display_name": "Python 3",
   "language": "python",
   "name": "python3"
  },
  "language_info": {
   "codemirror_mode": {
    "name": "ipython",
    "version": 3
   },
   "file_extension": ".py",
   "mimetype": "text/x-python",
   "name": "python",
   "nbconvert_exporter": "python",
   "pygments_lexer": "ipython3",
   "version": "3.10.9"
  },
  "orig_nbformat": 4
 },
 "nbformat": 4,
 "nbformat_minor": 2
}
